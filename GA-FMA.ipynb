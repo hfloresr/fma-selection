{
 "cells": [
  {
   "cell_type": "markdown",
   "metadata": {},
   "source": []
  },
  {
   "cell_type": "code",
   "execution_count": 1,
   "metadata": {},
   "outputs": [],
   "source": [
    "%matplotlib inline"
   ]
  },
  {
   "cell_type": "code",
   "execution_count": 2,
   "metadata": {},
   "outputs": [],
   "source": [
    "import os\n",
    "import sys\n",
    "\n",
    "import IPython.display as ipd\n",
    "import numpy as np\n",
    "import pandas as pd\n",
    "import matplotlib.pyplot as plt\n",
    "import seaborn as sns\n",
    "import sklearn as skl\n",
    "import sklearn.utils, sklearn.preprocessing, sklearn.decomposition, sklearn.svm\n",
    "import librosa\n",
    "import librosa.display\n",
    "\n",
    "import utils\n",
    "\n",
    "plt.rcParams['figure.figsize'] = (17, 5)"
   ]
  },
  {
   "cell_type": "code",
   "execution_count": 3,
   "metadata": {},
   "outputs": [
    {
     "name": "stderr",
     "output_type": "stream",
     "text": [
      "/home/hflores/uci/fall2017/fma-selection/utils.py:213: FutureWarning: specifying 'categories' or 'ordered' in .astype() is deprecated; pass a CategoricalDtype instead\n",
      "  'category', categories=SUBSETS, ordered=True)\n"
     ]
    },
    {
     "data": {
      "text/plain": [
       "((106574, 52), (163, 4), (106574, 518), (13129, 249))"
      ]
     },
     "execution_count": 3,
     "metadata": {},
     "output_type": "execute_result"
    }
   ],
   "source": [
    "# Directory where mp3 are stored\n",
    "AUDIO_DIR = os.environ.get('AUDIO_DIR')\n",
    "\n",
    "# Load metadata and features\n",
    "tracks = utils.load('fma_metadata/tracks.csv')\n",
    "genres = utils.load('fma_metadata/genres.csv')\n",
    "features = utils.load('fma_metadata/features.csv')\n",
    "echonest = utils.load('fma_metadata/echonest.csv')\n",
    "\n",
    "np.testing.assert_array_equal(features.index, tracks.index)\n",
    "assert echonest.index.isin(tracks.index).all()\n",
    "\n",
    "tracks.shape, genres.shape, features.shape, echonest.shape"
   ]
  },
  {
   "cell_type": "markdown",
   "metadata": {},
   "source": [
    "## 5 Genre classification"
   ]
  },
  {
   "cell_type": "markdown",
   "metadata": {},
   "source": [
    "### 5.1 From features"
   ]
  },
  {
   "cell_type": "code",
   "execution_count": 15,
   "metadata": {},
   "outputs": [
    {
     "name": "stdout",
     "output_type": "stream",
     "text": [
      "6400 training examples, 800 testing examples\n",
      "518 features, 8 classes\n"
     ]
    }
   ],
   "source": [
    "small = tracks['set', 'subset'] <= 'small'\n",
    "\n",
    "train = tracks['set', 'split'] == 'training'\n",
    "val = tracks['set', 'split'] == 'validation'\n",
    "test = tracks['set', 'split'] == 'test'\n",
    "\n",
    "y_train = tracks.loc[small & train, ('track', 'genre_top')]\n",
    "y_test = tracks.loc[small & test, ('track', 'genre_top')]\n",
    "enc = skl.preprocessing.LabelEncoder()\n",
    "y_train = enc.fit_transform(y_train)\n",
    "y_test = enc.transform(y_test)\n",
    "\n",
    "X_train = features.loc[small & train,]\n",
    "X_test = features.loc[small & test,]\n",
    "\n",
    "print('{} training examples, {} testing examples'.format(y_train.size, y_test.size))\n",
    "print('{} features, {} classes'.format(X_train.shape[1], np.unique(y_train).size))"
   ]
  },
  {
   "cell_type": "code",
   "execution_count": 16,
   "metadata": {},
   "outputs": [
    {
     "name": "stdout",
     "output_type": "stream",
     "text": [
      "Accuracy: 47.88%\n"
     ]
    }
   ],
   "source": [
    "# Be sure training samples are shuffled.\n",
    "X_train, y_train = skl.utils.shuffle(X_train, y_train, random_state=42)\n",
    "\n",
    "# Standardize features by removing the mean and scaling to unit variance.\n",
    "scaler = skl.preprocessing.StandardScaler(copy=False)\n",
    "scaler.fit_transform(X_train)\n",
    "scaler.transform(X_test)\n",
    "\n",
    "# Support vector classification.\n",
    "clf = skl.svm.SVC()\n",
    "clf.fit(X_train, y_train)\n",
    "score = clf.score(X_test, y_test)\n",
    "print('Accuracy: {:.2%}'.format(score))"
   ]
  },
  {
   "cell_type": "code",
   "execution_count": null,
   "metadata": {},
   "outputs": [],
   "source": []
  },
  {
   "cell_type": "code",
   "execution_count": 17,
   "metadata": {},
   "outputs": [],
   "source": [
    "from sklearn.feature_selection import SelectFromModel\n",
    "from sklearn.linear_model import LassoCV"
   ]
  },
  {
   "cell_type": "code",
   "execution_count": null,
   "metadata": {},
   "outputs": [],
   "source": []
  },
  {
   "cell_type": "markdown",
   "metadata": {},
   "source": [
    "### 5.2 Minimalist Genetic Algorithm for Feature Selection"
   ]
  },
  {
   "cell_type": "code",
   "execution_count": 19,
   "metadata": {},
   "outputs": [],
   "source": [
    "from genetic_selection import GeneticSelectionCV"
   ]
  },
  {
   "cell_type": "code",
   "execution_count": 21,
   "metadata": {},
   "outputs": [],
   "source": [
    "model = skl.svm.SVC()\n",
    "selector = GeneticSelectionCV(model,\n",
    "                             cv=5,\n",
    "                             verbose=1,\n",
    "                             scoring=\"accuracy\",\n",
    "                             n_population=50,\n",
    "                             crossover_proba=0.5,\n",
    "                             mutation_proba=0.2,\n",
    "                             n_generations=40,\n",
    "                             crossover_independent_proba=0.5,\n",
    "                             mutation_independent_proba=0.5,\n",
    "                             tournament_size=3,\n",
    "                             caching=True,\n",
    "                             n_jobs=-1)"
   ]
  },
  {
   "cell_type": "code",
   "execution_count": 22,
   "metadata": {},
   "outputs": [
    {
     "name": "stdout",
     "output_type": "stream",
     "text": [
      "Selecting features with genetic algorithm.\n",
      "gen\tnevals\tavg                      \tstd                                \tmin                          \tmax                          \n",
      "0  \t50    \t[   0.588475  257.4     ]\t[  4.86593307e-03   8.93756119e+00]\t[   0.57578125  240.        ]\t[   0.59828125  282.        ]\n",
      "1  \t37    \t[   0.5914375  260.36     ]\t[  4.28717655e-03   9.74630186e+00]\t[   0.5815625  243.       ]  \t[   0.60078125  288.        ]\n",
      "2  \t25    \t[   0.593625  263.12    ]  \t[  4.48336770e-03   9.83186656e+00]\t[   0.5734375  242.       ]  \t[   0.60078125  285.        ]\n",
      "3  \t31    \t[   0.5955  263.6   ]      \t[  4.56880985e-03   8.78635305e+00]\t[   0.5796875  239.       ]  \t[   0.60421875  283.        ]\n",
      "4  \t25    \t[   0.59615  262.5    ]    \t[  5.62098468e-03   8.31685037e+00]\t[   0.57734375  236.        ]\t[   0.60328125  279.        ]\n",
      "5  \t35    \t[   0.59798125  260.84      ]\t[  4.59893840e-03   7.06359682e+00]\t[   0.58453125  248.        ]\t[   0.60546875  277.        ]\n",
      "6  \t32    \t[   0.59834063  257.5       ]\t[  5.74956605e-03   7.92527602e+00]\t[   0.58171875  236.        ]\t[   0.6090625  275.       ]  \n",
      "7  \t33    \t[   0.59999688  256.82      ]\t[  5.52086684e-03   6.58996206e+00]\t[   0.58296875  240.        ]\t[   0.6090625  272.       ]  \n",
      "8  \t19    \t[   0.602225  258.74    ]    \t[  6.62563087e-03   7.51481204e+00]\t[   0.57765625  248.        ]\t[   0.60984375  272.        ]\n",
      "9  \t24    \t[   0.60297813  260.18      ]\t[  7.15566387e-03   8.02169558e+00]\t[   0.58546875  232.        ]\t[   0.61078125  273.        ]\n",
      "10 \t30    \t[   0.60207187  262.2       ]\t[ 0.00850872  6.20322497]          \t[   0.5815625  250.       ]  \t[   0.6115625  275.       ]  \n",
      "11 \t32    \t[   0.6047125  262.34     ]  \t[  6.63923588e-03   6.87781942e+00]\t[   0.58640625  244.        ]\t[   0.61125  273.     ]      \n",
      "12 \t32    \t[   0.60704375  265.72      ]\t[ 0.00639502  5.42232422]          \t[   0.5865625  252.       ]  \t[   0.6134375  291.       ]  \n",
      "13 \t33    \t[   0.60674687  265.14      ]\t[ 0.00864681  6.64231887]          \t[   0.5790625  242.       ]  \t[   0.61328125  291.        ]\n",
      "14 \t32    \t[   0.60687187  265.        ]\t[ 0.00873584  6.81469001]          \t[   0.5828125  236.       ]  \t[   0.61390625  273.        ]\n",
      "15 \t24    \t[   0.60653438  265.54      ]\t[ 0.01001886  7.16996513]          \t[   0.58078125  250.        ]\t[   0.61703125  288.        ]\n",
      "16 \t35    \t[   0.60733125  265.86      ]\t[ 0.00966483  5.30663735]          \t[   0.5828125  248.       ]  \t[   0.61703125  275.        ]\n",
      "17 \t24    \t[   0.60700312  264.54      ]\t[ 0.0111746   7.29715013]          \t[   0.58296875  235.        ]\t[   0.61703125  276.        ]\n",
      "18 \t25    \t[   0.60849062  265.48      ]\t[ 0.01051095  6.09340627]          \t[   0.5834375  238.       ]  \t[   0.61703125  279.        ]\n",
      "19 \t32    \t[   0.60678438  265.32      ]\t[ 0.01208333  6.23679405]          \t[   0.583125  248.      ]    \t[   0.61703125  277.        ]\n",
      "20 \t32    \t[   0.60731563  264.08      ]\t[ 0.01160809  8.01708176]          \t[   0.5765625  241.       ]  \t[   0.6178125  283.       ]  \n",
      "21 \t25    \t[   0.61105625  264.98      ]\t[ 0.00937524  6.52223888]          \t[   0.58578125  233.        ]\t[   0.6178125  277.       ]  \n",
      "22 \t33    \t[   0.61050313  264.48      ]\t[ 0.01050452  5.44147039]          \t[   0.58390625  243.        ]\t[   0.61796875  271.        ]\n",
      "23 \t33    \t[   0.6101125  266.1      ]  \t[ 0.0108706   5.13517283]          \t[   0.585625  246.      ]    \t[   0.61875  277.     ]      \n",
      "24 \t28    \t[   0.6107875  264.46     ]  \t[ 0.01138126  6.60366565]          \t[   0.58171875  244.        ]\t[   0.61875  271.     ]      \n",
      "25 \t31    \t[   0.60931562  264.08      ]\t[ 0.01285389  7.83540682]          \t[   0.58203125  241.        ]\t[   0.61875  280.     ]      \n",
      "26 \t22    \t[   0.61222812  264.38      ]\t[ 0.01109546  5.79962068]          \t[   0.57796875  242.        ]\t[   0.61875  271.     ]      \n",
      "27 \t31    \t[   0.61024062  265.74      ]\t[ 0.01237505  6.53853195]          \t[   0.58390625  242.        ]\t[   0.61875  279.     ]      \n",
      "28 \t34    \t[   0.60923125  266.2       ]\t[ 0.01309147  6.06300256]          \t[   0.57015625  243.        ]\t[   0.61875  283.     ]      \n",
      "29 \t33    \t[   0.6113625  265.36     ]  \t[ 0.01230774  5.55611375]          \t[   0.58453125  241.        ]\t[   0.62015625  274.        ]\n",
      "30 \t29    \t[   0.61308125  266.58      ]\t[ 0.01172229  4.57423218]          \t[   0.58421875  250.        ]\t[   0.62015625  281.        ]\n",
      "31 \t32    \t[   0.60963437  263.08      ]\t[ 0.01293903  8.63675865]          \t[   0.58296875  227.        ]\t[   0.62015625  284.        ]\n",
      "32 \t31    \t[   0.61295937  264.3       ]\t[ 0.01178678  5.95399026]          \t[   0.58484375  244.        ]\t[   0.62015625  275.        ]\n",
      "33 \t25    \t[   0.61454375  264.58      ]\t[ 0.0109362   4.96020161]          \t[   0.58140625  246.        ]\t[   0.62015625  276.        ]\n",
      "34 \t24    \t[   0.61249375  265.02      ]\t[ 0.01280861  5.61601282]          \t[   0.58  242.  ]            \t[   0.6203125  284.       ]  \n",
      "35 \t24    \t[   0.61435625  262.66      ]\t[ 0.01141462  7.55145019]          \t[   0.58296875  236.        ]\t[   0.6203125  268.       ]  \n",
      "36 \t34    \t[   0.61545625  265.46      ]\t[ 0.01037767  3.26931185]          \t[   0.586875  250.      ]    \t[   0.6203125  276.       ]  \n",
      "37 \t33    \t[   0.61330313  263.38      ]\t[ 0.01227791  7.07075668]          \t[   0.5828125  234.       ]  \t[   0.6203125  274.       ]  \n",
      "38 \t24    \t[   0.61529688  265.02      ]\t[ 0.01118131  4.64107746]          \t[   0.58484375  240.        ]\t[   0.6203125  274.       ]  \n",
      "39 \t27    \t[   0.6147875  264.66     ]  \t[ 0.01170498  5.52307885]          \t[   0.58078125  241.        ]\t[   0.6203125  280.       ]  \n",
      "40 \t29    \t[   0.61695625  265.32      ]\t[ 0.00957348  3.86491915]          \t[   0.58046875  244.        ]\t[   0.6203125  269.       ]  \n"
     ]
    }
   ],
   "source": [
    "selector = selector.fit(X_train, y_train)"
   ]
  },
  {
   "cell_type": "code",
   "execution_count": 38,
   "metadata": {},
   "outputs": [
    {
     "data": {
      "text/plain": [
       "268"
      ]
     },
     "execution_count": 38,
     "metadata": {},
     "output_type": "execute_result"
    }
   ],
   "source": [
    "selector.n_features_"
   ]
  },
  {
   "cell_type": "code",
   "execution_count": 39,
   "metadata": {},
   "outputs": [
    {
     "data": {
      "text/plain": [
       "SVC(C=1.0, cache_size=200, class_weight=None, coef0=0.0,\n",
       "  decision_function_shape='ovr', degree=3, gamma='auto', kernel='rbf',\n",
       "  max_iter=-1, probability=False, random_state=None, shrinking=True,\n",
       "  tol=0.001, verbose=False)"
      ]
     },
     "execution_count": 39,
     "metadata": {},
     "output_type": "execute_result"
    }
   ],
   "source": [
    "selector.estimator_"
   ]
  },
  {
   "cell_type": "code",
   "execution_count": 37,
   "metadata": {},
   "outputs": [
    {
     "name": "stdout",
     "output_type": "stream",
     "text": [
      "Accuracy: 48.75%\n"
     ]
    }
   ],
   "source": [
    "X_train_new = X_train.iloc[:, selector.support_]\n",
    "X_test_new = X_test.iloc[:, selector.support_]\n",
    "\n",
    "# Support vector classification.\n",
    "clf_gs = skl.svm.SVC()\n",
    "clf_gs.fit(X_train_new, y_train)\n",
    "score_gs = clf_gs.score(X_test_new, y_test)\n",
    "print('Accuracy: {:.2%}'.format(score_gs))"
   ]
  },
  {
   "cell_type": "code",
   "execution_count": null,
   "metadata": {},
   "outputs": [],
   "source": []
  },
  {
   "cell_type": "code",
   "execution_count": 40,
   "metadata": {},
   "outputs": [
    {
     "name": "stdout",
     "output_type": "stream",
     "text": [
      "Selecting features with genetic algorithm.\n",
      "gen\tnevals\tavg                          \tstd                                \tmin                          \tmax                          \n",
      "0  \t50    \t[   0.55184375  258.58      ]\t[  5.78741226e-03   1.18930063e+01]\t[   0.54234375  236.        ]\t[   0.56484375  288.        ]\n",
      "1  \t34    \t[   0.5559375  265.28     ]  \t[  5.82148164e-03   1.15966202e+01]\t[   0.5378125  230.       ]  \t[   0.568125  288.      ]    \n",
      "2  \t34    \t[   0.55745625  266.2       ]\t[  5.35324814e-03   9.14330356e+00]\t[   0.5446875  246.       ]  \t[   0.56984375  288.        ]\n",
      "3  \t31    \t[   0.55965625  270.06      ]\t[  5.61013661e-03   9.09815366e+00]\t[   0.543125  249.      ]    \t[   0.56984375  290.        ]\n",
      "4  \t31    \t[   0.56083438  269.86      ]\t[  6.22413476e-03   1.12035887e+01]\t[   0.5371875  231.       ]  \t[   0.56984375  286.        ]\n",
      "5  \t24    \t[   0.56144375  271.24      ]\t[  6.25449526e-03   9.65931675e+00]\t[   0.5459375  241.       ]  \t[   0.56984375  289.        ]\n",
      "6  \t32    \t[   0.56272813  269.36      ]\t[  6.83012414e-03   9.32042917e+00]\t[   0.54171875  242.        ]\t[   0.57296875  289.        ]\n",
      "7  \t31    \t[   0.56248437  268.        ]\t[  7.34981465e-03   1.09160432e+01]\t[   0.545625  241.      ]    \t[   0.57046875  285.        ]\n",
      "8  \t29    \t[   0.56437188  269.14      ]\t[  6.17576934e-03   8.63946758e+00]\t[   0.546875  238.      ]    \t[   0.57046875  286.        ]\n",
      "9  \t36    \t[   0.56323438  269.84      ]\t[ 0.00747576  7.32218547]          \t[   0.5428125  246.       ]  \t[   0.57109375  284.        ]\n",
      "10 \t31    \t[   0.56365625  269.5       ]\t[ 0.00726601  6.36631762]          \t[   0.54703125  247.        ]\t[   0.57203125  281.        ]\n"
     ]
    }
   ],
   "source": [
    "model2 = skl.linear_model.LogisticRegression()\n",
    "selector2 = GeneticSelectionCV(model2,\n",
    "                             cv=5,\n",
    "                             verbose=1,\n",
    "                             scoring=\"accuracy\",\n",
    "                             n_population=50,\n",
    "                             crossover_proba=0.5,\n",
    "                             mutation_proba=0.2,\n",
    "                             n_generations=10,\n",
    "                             crossover_independent_proba=0.5,\n",
    "                             mutation_independent_proba=0.5,\n",
    "                             tournament_size=3,\n",
    "                             caching=True,\n",
    "                             n_jobs=-1)\n",
    "selector2 = selector2.fit(X_train, y_train)"
   ]
  },
  {
   "cell_type": "code",
   "execution_count": null,
   "metadata": {},
   "outputs": [],
   "source": []
  }
 ],
 "metadata": {
  "kernelspec": {
   "display_name": "Python 3",
   "language": "python",
   "name": "python3"
  },
  "language_info": {
   "codemirror_mode": {
    "name": "ipython",
    "version": 3
   },
   "file_extension": ".py",
   "mimetype": "text/x-python",
   "name": "python",
   "nbconvert_exporter": "python",
   "pygments_lexer": "ipython3",
   "version": "3.6.3"
  }
 },
 "nbformat": 4,
 "nbformat_minor": 2
}
